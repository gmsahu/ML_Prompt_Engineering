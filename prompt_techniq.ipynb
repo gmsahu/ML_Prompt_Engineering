{
 "cells": [
  {
   "cell_type": "markdown",
   "metadata": {},
   "source": [
    "## one shot prompting ##\n",
    "## few shot prmpting and zero shot prompting\n",
    "\n"
   ]
  },
  {
   "cell_type": "code",
   "execution_count": 1,
   "metadata": {},
   "outputs": [
    {
     "data": {
      "text/plain": [
       "True"
      ]
     },
     "execution_count": 1,
     "metadata": {},
     "output_type": "execute_result"
    }
   ],
   "source": [
    "import os\n",
    "from dotenv import load_dotenv\n",
    "load_dotenv()"
   ]
  },
  {
   "cell_type": "code",
   "execution_count": 2,
   "metadata": {},
   "outputs": [],
   "source": [
    "from openai import OpenAI"
   ]
  },
  {
   "cell_type": "code",
   "execution_count": 14,
   "metadata": {},
   "outputs": [],
   "source": [
    "def get_response(messages,model='gpt-3.5-turbo'):\n",
    "    client=OpenAI()      \n",
    "    response= client.chat.completions.create(model=model,messages=messages)\n",
    "    return response.choices[0].message.content\n"
   ]
  },
  {
   "cell_type": "code",
   "execution_count": null,
   "metadata": {},
   "outputs": [],
   "source": [
    "##Dataset Summary\n",
    "##MedMCQA is a large-scale, Multiple-Choice Question Answering (MCQA) dataset designed to address \n",
    "# real-world medical entrance exam questions."
   ]
  },
  {
   "cell_type": "code",
   "execution_count": 11,
   "metadata": {},
   "outputs": [],
   "source": [
    "first_question='''Lymph vessel which drain the posterior 1/3 rd of the tongue\n",
    "'''\n",
    "first_question_answer='C'\n",
    "\n",
    "second_question='''Risk factors associated with post-operative nausea and vomiting following strabismus surgery are all except -\n",
    "'''\n",
    "second_question_answer='B'\n",
    "\n",
    "third_question='''For TOF management in antenatal period includes\n",
    "'''\n",
    "third_question_answer='C'\n",
    "\n",
    "fourth_question='''In chronic alcoholism the rate limiting component for alcohol metabolism excluding enzymes is/are : (PGI Dec 2008)\n",
    "'''\n"
   ]
  },
  {
   "cell_type": "code",
   "execution_count": 6,
   "metadata": {},
   "outputs": [],
   "source": [
    "#Define system role\n",
    "system_role='You are a helpful assistane who answer the multiple choice questions about medical knowledge'"
   ]
  },
  {
   "cell_type": "markdown",
   "metadata": {},
   "source": [
    "## Few shot prompting\n",
    "Few-shot prompting is a technique in prompt engineering where the model is provided with a few examples of the desired input-output behavior before generating its response. This method allows the model to learn patterns and better generalize its response to new tasks based on the small set of provided examples.\n"
   ]
  },
  {
   "cell_type": "code",
   "execution_count": 12,
   "metadata": {},
   "outputs": [],
   "source": [
    "user_prompt=f'''Question:{first_question}\n",
    "Answer:{first_question_answer}\n",
    "\n",
    "Question:{second_question}\n",
    "Answer:{second_question_answer}\n",
    "\n",
    "Question:{third_question}\n",
    "Answer:{third_question_answer}\n",
    "\n",
    "Question:{fourth_question}\n",
    "Answer:\n",
    "'''\n",
    "messages=[{'role':'system','content':system_role},\n",
    "          \n",
    "           {'role':'user','content':user_prompt}]"
   ]
  },
  {
   "cell_type": "code",
   "execution_count": 15,
   "metadata": {},
   "outputs": [
    {
     "name": "stdout",
     "output_type": "stream",
     "text": [
      "B. ADH\n"
     ]
    }
   ],
   "source": [
    "print(get_response(messages))"
   ]
  },
  {
   "cell_type": "markdown",
   "metadata": {},
   "source": [
    "\n",
    "## one shot prompting ##\n",
    "\n",
    "One-shot prompting is a technique in prompt engineering where the model is provided with a single example of the desired input-output behavior before generating its response. In this case, the user gives a prompt that includes a task description along with one example of how to complete the task. The model then uses this single example as guidance for generating a response to new input.\n"
   ]
  },
  {
   "cell_type": "code",
   "execution_count": 16,
   "metadata": {},
   "outputs": [],
   "source": [
    "first_question='''Lymph vessel which drain the posterior 1/3 rd of the tongue\n",
    "'''\n",
    "first_question_answer='C'\n",
    "\n",
    "fourth_question='''In chronic alcoholism the rate limiting component for alcohol metabolism excluding enzymes is/are : (PGI Dec 2008)\n",
    "'''"
   ]
  },
  {
   "cell_type": "code",
   "execution_count": 17,
   "metadata": {},
   "outputs": [
    {
     "name": "stdout",
     "output_type": "stream",
     "text": [
      "The rate limiting component for alcohol metabolism in chronic alcoholism excluding enzymes would be:\n",
      "\n",
      "B. NAD+ availability\n"
     ]
    }
   ],
   "source": [
    "user_prompt=f'''Question:{first_question}\n",
    "Answer:{first_question_answer}\n",
    "Question:{fourth_question}\n",
    "Answer:\n",
    "'''\n",
    "messages=[{'role':'system','content':system_role},\n",
    "          \n",
    "           {'role':'user','content':user_prompt}]\n",
    "\n",
    "print(get_response(messages))"
   ]
  },
  {
   "cell_type": "code",
   "execution_count": null,
   "metadata": {},
   "outputs": [],
   "source": [
    "#It showa same answer with few and one shot prompting"
   ]
  },
  {
   "cell_type": "markdown",
   "metadata": {},
   "source": [
    "Zero shot prompting\n",
    "No example required\n"
   ]
  },
  {
   "cell_type": "code",
   "execution_count": 18,
   "metadata": {},
   "outputs": [
    {
     "name": "stdout",
     "output_type": "stream",
     "text": [
      "The rate limiting component for alcohol metabolism in chronic alcoholism is the availability of coenzymes NAD+ and NADH.\n"
     ]
    }
   ],
   "source": [
    "fourth_question='''In chronic alcoholism the rate limiting component for alcohol metabolism excluding enzymes is/are : (PGI Dec 2008)\n",
    "'''\n",
    "user_prompt=f'''Question:{fourth_question}\n",
    "Answer:\n",
    "'''\n",
    "messages=[{'role':'system','content':system_role},\n",
    "          \n",
    "           {'role':'user','content':user_prompt}]\n",
    "\n",
    "print(get_response(messages))"
   ]
  },
  {
   "cell_type": "code",
   "execution_count": null,
   "metadata": {},
   "outputs": [],
   "source": []
  }
 ],
 "metadata": {
  "kernelspec": {
   "display_name": "Python 3",
   "language": "python",
   "name": "python3"
  },
  "language_info": {
   "codemirror_mode": {
    "name": "ipython",
    "version": 3
   },
   "file_extension": ".py",
   "mimetype": "text/x-python",
   "name": "python",
   "nbconvert_exporter": "python",
   "pygments_lexer": "ipython3",
   "version": "3.11.0"
  }
 },
 "nbformat": 4,
 "nbformat_minor": 2
}
