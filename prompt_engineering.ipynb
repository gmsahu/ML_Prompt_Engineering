{
 "cells": [
  {
   "cell_type": "markdown",
   "metadata": {},
   "source": []
  },
  {
   "cell_type": "markdown",
   "metadata": {},
   "source": [
    "## Prompt Engineering using ChatGPT API  ##"
   ]
  },
  {
   "cell_type": "code",
   "execution_count": 2,
   "metadata": {},
   "outputs": [
    {
     "data": {
      "text/plain": [
       "True"
      ]
     },
     "execution_count": 2,
     "metadata": {},
     "output_type": "execute_result"
    }
   ],
   "source": [
    "import os\n",
    "from dotenv import load_dotenv\n",
    "load_dotenv()"
   ]
  },
  {
   "cell_type": "code",
   "execution_count": 8,
   "metadata": {},
   "outputs": [],
   "source": [
    "from openai import OpenAI\n",
    "from openai import AsyncOpenAI\n",
    "\n"
   ]
  },
  {
   "cell_type": "code",
   "execution_count": 10,
   "metadata": {},
   "outputs": [
    {
     "name": "stdout",
     "output_type": "stream",
     "text": [
      "ChatCompletion(id='chatcmpl-ALCw3bof4vo7j9imk8WmTSG0WwRbu', choices=[Choice(finish_reason='stop', index=0, logprobs=None, message=ChatCompletionMessage(content='Why was the math book sad?\\n\\nBecause it had too many problems.', refusal=None, role='assistant', function_call=None, tool_calls=None))], created=1729617975, model='gpt-3.5-turbo-0125', object='chat.completion', service_tier=None, system_fingerprint=None, usage=CompletionUsage(completion_tokens=14, prompt_tokens=11, total_tokens=25, completion_tokens_details=CompletionTokensDetails(audio_tokens=None, reasoning_tokens=0), prompt_tokens_details=PromptTokensDetails(audio_tokens=None, cached_tokens=0)))\n"
     ]
    }
   ],
   "source": [
    "model = 'gpt-3.5-turbo'\n",
    "messages=[{'role':'user','content':'tell me a joke'}]\n",
    "client = AsyncOpenAI()\n",
    "          \n",
    "response=await client.chat.completions.create(model=model,messages=messages)\n",
    "print(response)\n"
   ]
  },
  {
   "cell_type": "code",
   "execution_count": 11,
   "metadata": {},
   "outputs": [
    {
     "name": "stdout",
     "output_type": "stream",
     "text": [
      "Why was the math book sad?\n",
      "\n",
      "Because it had too many problems.\n"
     ]
    }
   ],
   "source": [
    "print(response.choices[0].message.content)"
   ]
  },
  {
   "cell_type": "code",
   "execution_count": 24,
   "metadata": {},
   "outputs": [],
   "source": [
    "#accept the prompt as input and response as output\n",
    "def get_propmt(prompt,model='gpt-3.5-turbo'):\n",
    "    \n",
    "     #messages=[{'role':'user','content':prompt}]\n",
    "     messages = [{\"role\": \"system\", \"content\": \"You are a helpful assistant.\"},\n",
    "                {\"role\": \"user\", \"content\": prompt}]\n",
    "     client = OpenAI()     \n",
    "     response=  client.chat.completions.create(model=model,messages=messages) \n",
    "     return  response.choices[0].message.content "
   ]
  },
  {
   "cell_type": "code",
   "execution_count": 25,
   "metadata": {},
   "outputs": [
    {
     "name": "stdout",
     "output_type": "stream",
     "text": [
      "Title: Navigating the World of Prompt Engineering\n",
      "\n",
      "In the ever-evolving landscape of technology, prompt engineering has emerged as a key player in driving user interactions and experiences. Often overlooked, the art of crafting prompts has the power to guide users, elicit responses, and ultimately shape the success of various software applications.\n",
      "\n",
      "Prompt engineering involves the strategic design and implementation of prompts, messages, and notifications within a digital interface. These prompts serve as nudges to users, directing their actions and decisions. Whether it's a simple call-to-action button or a detailed instructional message, prompts play a crucial role in enhancing usability and engagement.\n",
      "\n",
      "One of the fundamental principles of prompt engineering is clarity. A well-crafted prompt should be concise, straightforward, and easily understandable. Ambiguity or confusion can lead to user frustration and impede the desired outcome. By carefully considering the language, tone, and context of a prompt, designers can effectively communicate their intentions and guide users towards the desired actions.\n",
      "\n",
      "Furthermore, prompt engineering extends beyond mere words to encompass visual elements as well. Color, size, placement, and animation can all influence the impact of a prompt on users. Designers must strike a balance between making prompts noticeable without being intrusive, ensuring that they complement the overall user experience.\n",
      "\n",
      "In conclusion, prompt engineering is a powerful tool that can significantly enhance the usability and effectiveness of digital products. By focusing on clarity, relevance, and visual appeal, designers can create prompts that not only guide users but also enrich their interactions with technology. As we continue to navigate the fast-paced world of digital innovation, mastering the art of prompt engineering will be essential in creating engaging and user-friendly experiences.\n"
     ]
    }
   ],
   "source": [
    "prompt='write a short blog post on  prompt engineering limiting to 300 words'\n",
    "print(get_propmt(prompt))"
   ]
  },
  {
   "cell_type": "code",
   "execution_count": 26,
   "metadata": {},
   "outputs": [
    {
     "name": "stdout",
     "output_type": "stream",
     "text": [
      "1. **What is the main topic of the blog post?**\n",
      "   This blog post delves into the benefits of practicing mindfulness and offers tips on how to incorporate mindfulness into your daily routine.\n",
      "\n",
      "2. **How does mindfulness help improve mental well-being?**\n",
      "   Mindfulness can help reduce stress, anxiety, and depression by focusing your attention on the present moment and fostering a sense of calm and clarity.\n",
      "\n",
      "3. **What are some simple ways to practice mindfulness daily?**\n",
      "   You can practice mindfulness by engaging in activities like deep breathing exercises, mindful meditation, or simply being fully present in your everyday tasks.\n",
      "\n",
      "4. **Can mindfulness be beneficial for physical health as well?**\n",
      "   Yes, mindfulness has been shown to improve physical health by reducing inflammation, boosting the immune system, and promoting better sleep quality.\n",
      "\n",
      "5. **How can one stay consistent with their mindfulness practice?**\n",
      "   Developing a routine, setting reminders, and starting with small increments of mindfulness practice can help you stay consistent and make it a part of your daily life.\n",
      "\n",
      "6. **Are there any resources or apps recommended for beginners interested in mindfulness?**\n",
      "   Beginners can benefit from apps like Headspace, Calm, or Insight Timer, which offer guided meditation sessions and mindfulness exercises.\n",
      "\n",
      "7. **What are some misconceptions about mindfulness that the blog post addresses?**\n",
      "   The blog post clarifies that mindfulness practice does not require a significant time commitment and can be integrated into even the busiest of schedules with simple techniques and exercises.\n"
     ]
    }
   ],
   "source": [
    "prompt='''include 7 FAQs for the above blog post with the answers,\n",
    "limiting to 300 words'''\n",
    "print(get_propmt(prompt))"
   ]
  },
  {
   "cell_type": "markdown",
   "metadata": {},
   "source": [
    "# For the above call the response get mesed up with the previous call as each api call is independent\n",
    "# so it couldnt save its history and missed the context\n",
    "# to overcome this problem lets do this way\n"
   ]
  },
  {
   "cell_type": "code",
   "execution_count": 35,
   "metadata": {},
   "outputs": [],
   "source": [
    "first_prompt='write a short blog post on  prompt engineering limiting to 300 words'\n",
    "second_prompt='''include 7 FAQs for the above blog post with the answers,\n",
    "limiting to 300 words'''"
   ]
  },
  {
   "cell_type": "code",
   "execution_count": 36,
   "metadata": {},
   "outputs": [],
   "source": [
    "    \n",
    "messages = [{\"role\": \"user\", \"content\": first_prompt},\n",
    "            {\"role\": \"assistant\", \"content\": first_prompt},\n",
    "            {\"role\":\"user\",\"content\":second_prompt}]\n",
    "     \n",
    "     \n",
    "client = OpenAI()     \n",
    "second_prompt_response=  client.chat.completions.create(model=model,messages=messages) \n"
   ]
  },
  {
   "cell_type": "code",
   "execution_count": 38,
   "metadata": {},
   "outputs": [
    {
     "name": "stdout",
     "output_type": "stream",
     "text": [
      "Blog Post:\n",
      "\n",
      "Prompt engineering is a crucial aspect of creating effective machine learning models. By carefully crafting prompts, researchers can guide models to produce more accurate and relevant results. This technique involves designing specific instructions or questions that prompt the model to generate desired outputs. Let's delve into the world of prompt engineering and explore its importance in the field of artificial intelligence.\n",
      "\n",
      "Frequently Asked Questions:\n",
      "\n",
      "1. What is prompt engineering?\n",
      "Prompt engineering involves crafting specific queries or instructions to guide machine learning models in producing desired outputs. By designing effective prompts, researchers can influence the results generated by these models.\n",
      "\n",
      "2. Why is prompt engineering important?\n",
      "Prompt engineering is crucial because it helps in improving the accuracy and relevance of machine learning models' outputs. By providing clear and targeted prompts, researchers can steer models towards producing more meaningful results.\n",
      "\n",
      "3. How can prompt engineering benefit AI applications?\n",
      "Prompt engineering can enhance the performance of AI applications by enabling researchers to control the outputs of machine learning models. This approach is particularly useful in tasks where generating specific and relevant results is essential.\n",
      "\n",
      "4. What are some best practices for prompt engineering?\n",
      "Some best practices for prompt engineering include creating clear and concise prompts, identifying key elements to include in the prompt, and testing different prompts to determine the most effective ones.\n",
      "\n",
      "5. Can prompt engineering be applied to different types of machine learning models?\n",
      "Yes, prompt engineering can be applied to various types of machine learning models, including language models, image classifiers, and recommendation systems. The key is to design prompts that are tailored to the specific task and objectives of the model.\n",
      "\n",
      "6. How does prompt engineering impact the interpretability of machine learning models?\n",
      "Prompt engineering can improve the interpretability of machine learning models by influencing the outputs they produce. By designing prompts that elicit specific responses, researchers can gain insights into how the model makes decisions.\n",
      "\n",
      "7. What are some challenges associated with prompt engineering?\n",
      "Some challenges of prompt engineering include determining the optimal prompt for a given task, dealing with bias introduced through prompts, and ensuring that the prompts align with the objectives of the model. Researchers must carefully consider these factors when designing prompts for machine learning models.\n"
     ]
    }
   ],
   "source": [
    "print(second_prompt_response.choices[0].message.content)"
   ]
  },
  {
   "cell_type": "markdown",
   "metadata": {},
   "source": [
    "## automate the user prompt as history\n",
    "## define a chat function"
   ]
  },
  {
   "cell_type": "code",
   "execution_count": 47,
   "metadata": {},
   "outputs": [],
   "source": [
    "history=[]\n",
    "def user_chat(user_prompt,is_clear=False):\n",
    "    global history\n",
    "    if is_clear:\n",
    "        history=[]\n",
    "    input_message={\"role\":\"user\",\"content\":user_prompt}\n",
    "    history.append(input_message)\n",
    "    client = OpenAI()\n",
    "    response=client.chat.completions.create(\n",
    "            model=\"gpt-3.5-turbo\",\n",
    "            messages=history)\n",
    "    response=response.choices[0].message.content\n",
    "    respose_message={\"role\":\"assistant\",\n",
    "                          \"content\":response}\n",
    "    history.append(respose_message)\n",
    "    return response\n"
   ]
  },
  {
   "cell_type": "code",
   "execution_count": 49,
   "metadata": {},
   "outputs": [
    {
     "name": "stdout",
     "output_type": "stream",
     "text": [
      "Limiting your diet can have a big impact on your overall health and well-being. By following a specific diet plan and setting limits on certain types of food, you can improve your nutrition, lose weight, and even prevent certain diseases.\n",
      "\n",
      "A diet plan that limits processed foods, added sugars, and unhealthy fats can help you achieve your health goals. By focusing on whole, nutrient-dense foods like fruits, vegetables, lean proteins, and whole grains, you can ensure you are getting the essential nutrients your body needs to function at its best.\n",
      "\n",
      "Setting limits on portion sizes can also be a key component of a successful diet plan. By practicing portion control and being mindful of how much you are eating, you can avoid overeating and better manage your weight.\n",
      "\n",
      "In addition, limiting your intake of certain foods that are high in calories, sugar, and unhealthy fats can help you maintain a healthy weight and reduce your risk of chronic diseases like diabetes, heart disease, and obesity.\n",
      "\n",
      "Overall, following a diet plan that sets limits on certain types of food can be a powerful way to improve your health and well-being. By making conscious choices about what you eat and setting boundaries around less healthy options, you can take control of your nutrition and feel your best.\n"
     ]
    }
   ],
   "source": [
    "user_prompt=\"write a short blog post on diet plan limiting 200 words\"\n",
    "print(user_chat(user_prompt))"
   ]
  },
  {
   "cell_type": "code",
   "execution_count": 50,
   "metadata": {},
   "outputs": [
    {
     "name": "stdout",
     "output_type": "stream",
     "text": [
      "Introducing our new \"Healthy Balance\" package - a personalized diet plan designed to help you achieve your health goals by setting limits on certain food items. This package focuses on promoting a balanced diet rich in fruits, vegetables, lean proteins, and whole grains while limiting processed foods, added sugars, and unhealthy fats.\n",
      "\n",
      "With the \"Healthy Balance\" package, you will receive a customized meal plan tailored to your specific dietary needs and preferences. Our nutrition experts will work with you to set limits on portion sizes, calorie intake, and specific food groups to help you achieve optimal nutrition and weight management.\n",
      "\n",
      "In addition, our package includes ongoing support and guidance to help you stay on track with your diet plan. Whether you are looking to lose weight, boost your energy levels, or improve your overall health, the \"Healthy Balance\" package provides the tools and resources you need to succeed.\n",
      "\n",
      "Take control of your health and wellness today with our \"Healthy Balance\" package and start living your best life.\n"
     ]
    }
   ],
   "source": [
    "user_prompt=\"In addition to above blog add specific package for diet plan what you have limiting to 200 words\"\n",
    "print(user_chat(user_prompt))"
   ]
  },
  {
   "cell_type": "code",
   "execution_count": 51,
   "metadata": {},
   "outputs": [
    {
     "name": "stdout",
     "output_type": "stream",
     "text": [
      "{'role': 'user', 'content': 'write a short blog post on LLM limiting 200 words'}\n",
      "{'role': 'assistant', 'content': 'LLM, or Limited License Master, is a feature in networking that allows users to set a limit on the number of packets sent or received by a system within a certain time frame. This is especially useful in preventing network congestion and ensuring fair use of network resources.\\n\\nBy setting a limit on the number of packets that can be transmitted, LLM helps to optimize network performance and prevent overload. This can be particularly useful in environments where multiple devices are sharing a network connection, such as in a home or office setting.\\n\\nAdditionally, LLM can also be used to prioritize certain types of traffic or applications over others. For example, it can ensure that important data packets are given priority over less critical traffic, such as streaming video or online gaming.\\n\\nOverall, LLM is a valuable tool in managing network traffic and ensuring a smooth and efficient experience for users. By setting limits on packet transmission, network administrators can better control the flow of data and prevent congestion.'}\n",
      "{'role': 'user', 'content': 'write a short blog post on diet plan limiting 200 words'}\n",
      "{'role': 'assistant', 'content': 'Limiting your diet can have a big impact on your overall health and well-being. By following a specific diet plan and setting limits on certain types of food, you can improve your nutrition, lose weight, and even prevent certain diseases.\\n\\nA diet plan that limits processed foods, added sugars, and unhealthy fats can help you achieve your health goals. By focusing on whole, nutrient-dense foods like fruits, vegetables, lean proteins, and whole grains, you can ensure you are getting the essential nutrients your body needs to function at its best.\\n\\nSetting limits on portion sizes can also be a key component of a successful diet plan. By practicing portion control and being mindful of how much you are eating, you can avoid overeating and better manage your weight.\\n\\nIn addition, limiting your intake of certain foods that are high in calories, sugar, and unhealthy fats can help you maintain a healthy weight and reduce your risk of chronic diseases like diabetes, heart disease, and obesity.\\n\\nOverall, following a diet plan that sets limits on certain types of food can be a powerful way to improve your health and well-being. By making conscious choices about what you eat and setting boundaries around less healthy options, you can take control of your nutrition and feel your best.'}\n",
      "{'role': 'user', 'content': 'In addition to above blog add specific package for diet plan what you have limiting to 200 words'}\n",
      "{'role': 'assistant', 'content': 'Introducing our new \"Healthy Balance\" package - a personalized diet plan designed to help you achieve your health goals by setting limits on certain food items. This package focuses on promoting a balanced diet rich in fruits, vegetables, lean proteins, and whole grains while limiting processed foods, added sugars, and unhealthy fats.\\n\\nWith the \"Healthy Balance\" package, you will receive a customized meal plan tailored to your specific dietary needs and preferences. Our nutrition experts will work with you to set limits on portion sizes, calorie intake, and specific food groups to help you achieve optimal nutrition and weight management.\\n\\nIn addition, our package includes ongoing support and guidance to help you stay on track with your diet plan. Whether you are looking to lose weight, boost your energy levels, or improve your overall health, the \"Healthy Balance\" package provides the tools and resources you need to succeed.\\n\\nTake control of your health and wellness today with our \"Healthy Balance\" package and start living your best life.'}\n"
     ]
    }
   ],
   "source": [
    "for messages in history:\n",
    "    print(messages)"
   ]
  },
  {
   "cell_type": "markdown",
   "metadata": {},
   "source": [
    "## For sarting a new chat clear the history\n"
   ]
  },
  {
   "cell_type": "code",
   "execution_count": 54,
   "metadata": {},
   "outputs": [
    {
     "name": "stdout",
     "output_type": "stream",
     "text": [
      "1. Russia-Ukraine tensions escalate: Russia has amassed troops near the Ukrainian border, raising fears of a potential invasion.\n",
      " \n",
      "2. COVID-19 updates: The Omicron variant continues to spread worldwide, leading to renewed restrictions and concerns about its impact on global health.\n",
      "\n",
      "3. Global climate change efforts: The COP26 summit concluded with some progress made on emissions reductions, but many feel that more decisive action is needed to combat climate change.\n",
      "\n",
      "4. Political turmoil in Myanmar: The military coup in Myanmar has sparked protests and violence, leading to a humanitarian crisis in the country.\n",
      "\n",
      "5. Supply chain issues: Shortages of various goods and products continue to plague economies worldwide, leading to price increases and consumer frustration.\n",
      "\n",
      "6. Social media scrutiny: Platforms like Facebook and Twitter are facing increased scrutiny over their role in spreading misinformation and censorship.\n",
      "\n",
      "7. Economic recovery post-pandemic: Many countries are still struggling to recover from the economic impact of the COVID-19 pandemic, with disparities between rich and poor nations widening.\n",
      "\n",
      "8. Afghanistan crisis: The Taliban's takeover of Afghanistan has led to a humanitarian crisis and concerns about human rights violations in the country.\n",
      "\n",
      "9. Conflict in the Middle East: Tensions between Israel and Palestine continue to simmer, with sporadic violence erupting in the region.\n",
      "\n",
      "10. Tech industry regulations: Governments around the world are grappling with how to regulate big tech companies like Google and Amazon to address issues of privacy and monopolistic practices.\n"
     ]
    }
   ],
   "source": [
    "user_prompt=\"Write top 10 current world news limiting to 200 words\"\n",
    "print(user_chat(user_prompt,True))"
   ]
  },
  {
   "cell_type": "code",
   "execution_count": 55,
   "metadata": {},
   "outputs": [
    {
     "data": {
      "text/plain": [
       "[{'role': 'user',\n",
       "  'content': 'Write top 10 current world news limiting to 200 words'},\n",
       " {'role': 'assistant',\n",
       "  'content': \"1. Russia-Ukraine tensions escalate: Russia has amassed troops near the Ukrainian border, raising fears of a potential invasion.\\n \\n2. COVID-19 updates: The Omicron variant continues to spread worldwide, leading to renewed restrictions and concerns about its impact on global health.\\n\\n3. Global climate change efforts: The COP26 summit concluded with some progress made on emissions reductions, but many feel that more decisive action is needed to combat climate change.\\n\\n4. Political turmoil in Myanmar: The military coup in Myanmar has sparked protests and violence, leading to a humanitarian crisis in the country.\\n\\n5. Supply chain issues: Shortages of various goods and products continue to plague economies worldwide, leading to price increases and consumer frustration.\\n\\n6. Social media scrutiny: Platforms like Facebook and Twitter are facing increased scrutiny over their role in spreading misinformation and censorship.\\n\\n7. Economic recovery post-pandemic: Many countries are still struggling to recover from the economic impact of the COVID-19 pandemic, with disparities between rich and poor nations widening.\\n\\n8. Afghanistan crisis: The Taliban's takeover of Afghanistan has led to a humanitarian crisis and concerns about human rights violations in the country.\\n\\n9. Conflict in the Middle East: Tensions between Israel and Palestine continue to simmer, with sporadic violence erupting in the region.\\n\\n10. Tech industry regulations: Governments around the world are grappling with how to regulate big tech companies like Google and Amazon to address issues of privacy and monopolistic practices.\"}]"
      ]
     },
     "execution_count": 55,
     "metadata": {},
     "output_type": "execute_result"
    }
   ],
   "source": [
    "history"
   ]
  },
  {
   "cell_type": "code",
   "execution_count": null,
   "metadata": {},
   "outputs": [],
   "source": []
  }
 ],
 "metadata": {
  "kernelspec": {
   "display_name": "Python 3",
   "language": "python",
   "name": "python3"
  },
  "language_info": {
   "codemirror_mode": {
    "name": "ipython",
    "version": 3
   },
   "file_extension": ".py",
   "mimetype": "text/x-python",
   "name": "python",
   "nbconvert_exporter": "python",
   "pygments_lexer": "ipython3",
   "version": "3.11.0"
  }
 },
 "nbformat": 4,
 "nbformat_minor": 2
}
